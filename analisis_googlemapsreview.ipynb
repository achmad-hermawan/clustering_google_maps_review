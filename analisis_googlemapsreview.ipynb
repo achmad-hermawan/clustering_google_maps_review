{
  "nbformat": 4,
  "nbformat_minor": 0,
  "metadata": {
    "colab": {
      "provenance": []
    },
    "kernelspec": {
      "name": "python3",
      "display_name": "Python 3"
    },
    "language_info": {
      "name": "python"
    }
  },
  "cells": [
    {
      "cell_type": "markdown",
      "source": [
        "[link text](https://)"
      ],
      "metadata": {
        "id": "H9hkaAGunfVX"
      }
    },
    {
      "cell_type": "markdown",
      "source": [],
      "metadata": {
        "id": "qdVS2nD_nisj"
      }
    },
    {
      "cell_type": "markdown",
      "source": [
        "# **scraping data dari google maps**"
      ],
      "metadata": {
        "id": "4KLk5sxlnnWz"
      }
    },
    {
      "cell_type": "code",
      "execution_count": null,
      "metadata": {
        "id": "CFh-91M2m41N"
      },
      "outputs": [],
      "source": [
        "# Scraping data dari ulasan google maps\n",
        "\n",
        "from serpapi import GoogleSearch\n",
        "from urllib.parse import urlsplit, parse_qsl\n",
        "import json\n",
        "import pandas as pd\n",
        "\n",
        "params = {\n",
        "  \"api_key\": \"d12ad9e8a239f30e500a1c2bb18c5256fa13e5966a17c3d39f66ccfadd830085\",                    # API key dari serpAPI\n",
        "  \"engine\": \"google_maps_reviews\",                                                                  # serpAPI search engine\n",
        "  \"hl\": \"id\",                                                                                       # language of the search\n",
        "  \"data_id\": \"0x2e7a584c3f999547:0xf5f81e9fab2e1dfb\"                                                # data id yang terletak di dalam URL Tempat Google Maps:di parameter kueri `data=`\n",
        "}\n",
        "\n",
        "search = GoogleSearch(params)\n",
        "\n",
        "\n",
        "reviews = []\n",
        "\n",
        "page_num = 0\n",
        "while True:\n",
        "    page_num += 1\n",
        "    results = search.get_dict()\n",
        "    if \"error\" in results:\n",
        "        print(f\"Error dari API: {results['error']}\")\n",
        "        break\n",
        "    print(f\"Extracting reviews from {page_num} page.\")\n",
        "\n",
        "    if not \"error\" in results:\n",
        "        for result in results.get(\"reviews\", []): # return an empty list [] if no reviews from the place\n",
        "            reviews.append({\n",
        "                \"page\": page_num,\n",
        "                \"name\": result.get(\"user\").get(\"name\"),\n",
        "                \"link\": result.get(\"user\").get(\"link\"),\n",
        "                \"thumbnail\": result.get(\"user\").get(\"thumbnail\"),\n",
        "                \"rating\": result.get(\"rating\"),\n",
        "                \"date\": result.get(\"date\"),\n",
        "                \"snippet\": result.get(\"snippet\"),\n",
        "                \"images\": result.get(\"images\"),\n",
        "                \"local_guide\": result.get(\"user\").get(\"local_guide\"),\n",
        "                # other data\n",
        "            })\n",
        "    else:\n",
        "        print(results[\"error\"])\n",
        "        break\n",
        "    pagination = results.get(\"serpapi_pagination\", {})\n",
        "\n",
        "    if pagination and pagination.get(\"next\") and pagination.get(\"next_page_token\"):\n",
        "        search.params_dict.update(dict(parse_qsl(urlsplit(pagination[\"next\"]).query)))\n",
        "    else:\n",
        "        break\n",
        "    if results.get(\"serpapi_pagination\").get(\"next\") and results.get(\"serpapi_pagination\").get(\"next_page_token\"):\n",
        "        # split URL in parts as a dict and update search \"params\" variable to a new page that will be passed to GoogleSearch()\n",
        "        search.params_dict.update(dict(parse_qsl(urlsplit(results[\"serpapi_pagination\"][\"next\"]).query)))\n",
        "        #search.params_dict.update(dict(parse_qsl(urlsplit(results[\"serpapi_pagination\"][\"next\"]).query)))\n",
        "        #print(result)\n",
        "    else:\n",
        "        break\n",
        "\n",
        "\n",
        "print(json.dumps(reviews, indent=2, ensure_ascii=False))\n",
        "df = pd.DataFrame(reviews)\n",
        "df.to_csv(f\"data.csv\", index=False)"
      ]
    },
    {
      "cell_type": "markdown",
      "source": [
        "# **import library**"
      ],
      "metadata": {
        "id": "9LjSiTNun0MQ"
      }
    },
    {
      "cell_type": "code",
      "source": [
        "# Import library yang digunakan\n",
        "\n",
        "import pandas as pd\n",
        "import re\n",
        "import nltk\n",
        "from nltk.corpus import stopwords\n",
        "from sklearn.feature_extraction.text import TfidfVectorizer\n",
        "from sklearn.cluster import KMeans\n",
        "from sklearn.decomposition import PCA\n",
        "from sklearn.metrics import silhouette_score\n",
        "from sklearn.preprocessing import MinMaxScaler\n",
        "from collections import Counter\n",
        "import matplotlib.pyplot as plt\n",
        "import seaborn as sns"
      ],
      "metadata": {
        "id": "Q1SCdAV-m6Dl"
      },
      "execution_count": null,
      "outputs": []
    },
    {
      "cell_type": "markdown",
      "source": [
        "# **load data**"
      ],
      "metadata": {
        "id": "LwHwUFbKoCuO"
      }
    },
    {
      "cell_type": "code",
      "source": [
        "# Baca data\n",
        "\n",
        "df = pd.read_csv('data.csv')\n",
        "\n",
        "df.shape"
      ],
      "metadata": {
        "id": "_TPCZRikm6GH"
      },
      "execution_count": null,
      "outputs": []
    },
    {
      "cell_type": "code",
      "source": [
        "# Cek null\n",
        "\n",
        "df.isnull().sum()"
      ],
      "metadata": {
        "id": "d0FjWFMum6IX"
      },
      "execution_count": null,
      "outputs": []
    },
    {
      "cell_type": "code",
      "source": [
        "# Cek data info\n",
        "\n",
        "df.info()"
      ],
      "metadata": {
        "id": "b2JdEJgOm6Kv"
      },
      "execution_count": null,
      "outputs": []
    },
    {
      "cell_type": "markdown",
      "source": [
        "# **clean text**"
      ],
      "metadata": {
        "id": "zeIZv5TBoH3L"
      }
    },
    {
      "cell_type": "code",
      "source": [
        "# Clean text\n",
        "\n",
        "nltk.download('stopwords')\n",
        "stop_words = set(stopwords.words('indonesian'))\n",
        "\n",
        "def clean_text(text):\n",
        "    text = text.lower()\n",
        "    text = re.sub(r'[^\\w\\s]', '', text)\n",
        "    words = text.split()\n",
        "    words = [w for w in words if w not in stop_words]\n",
        "    return ' '.join(words)\n",
        "\n",
        "df['clean_snippet'] = df['snippet'].astype(str).apply(clean_text)"
      ],
      "metadata": {
        "id": "oYrJ0htDm6M3"
      },
      "execution_count": null,
      "outputs": []
    },
    {
      "cell_type": "code",
      "source": [
        "df.head()"
      ],
      "metadata": {
        "id": "mS2Lw70Fm6Pc"
      },
      "execution_count": null,
      "outputs": []
    },
    {
      "cell_type": "markdown",
      "source": [
        "# **TF-IDF**"
      ],
      "metadata": {
        "id": "loX0MWOgoQXW"
      }
    },
    {
      "cell_type": "code",
      "source": [
        "# TF-IDF\n",
        "\n",
        "tfidf = TfidfVectorizer(max_features=300)\n",
        "X_text = tfidf.fit_transform(df['clean_snippet']).toarray()"
      ],
      "metadata": {
        "id": "k-f59K4Gm6RQ"
      },
      "execution_count": null,
      "outputs": []
    },
    {
      "cell_type": "code",
      "source": [
        "# Gabungkan dengan rating\n",
        "\n",
        "scaler = MinMaxScaler()\n",
        "rating_scaled = scaler.fit_transform(df[['rating']])\n",
        "X = pd.DataFrame(X_text)\n",
        "X['rating'] = rating_scaled"
      ],
      "metadata": {
        "id": "5Yfp1AbHm6T4"
      },
      "execution_count": null,
      "outputs": []
    },
    {
      "cell_type": "code",
      "source": [
        "# Ubah tipe data menjadi string\n",
        "\n",
        "X.columns = X.columns.astype(str)"
      ],
      "metadata": {
        "id": "l4BUAalWm6Wd"
      },
      "execution_count": null,
      "outputs": []
    },
    {
      "cell_type": "markdown",
      "source": [
        "# **mencari K dengan Elbow**"
      ],
      "metadata": {
        "id": "mzhJPQMOoZha"
      }
    },
    {
      "cell_type": "code",
      "source": [
        "# Cek K(jumlah cluster) dengan Elbow\n",
        "\n",
        "wcss = []\n",
        "for i in range(1, 11):\n",
        "    kmeans = KMeans(n_clusters=i, init='k-means++', max_iter=300, n_init=10, random_state=0)\n",
        "    kmeans.fit(X)\n",
        "    wcss.append(kmeans.inertia_)\n",
        "plt.plot(range(1, 11), wcss)\n",
        "plt.title('Elbow Method')\n",
        "plt.xlabel('Number of clusters')\n",
        "plt.ylabel('WCSS')"
      ],
      "metadata": {
        "id": "uno-WjNVm6Y2"
      },
      "execution_count": null,
      "outputs": []
    },
    {
      "cell_type": "markdown",
      "source": [
        "# **mencari K dengan Silhouette**"
      ],
      "metadata": {
        "id": "luuvzApOotJd"
      }
    },
    {
      "cell_type": "code",
      "source": [
        "# Cek K(jumlah cluster) dengan silhoutte\n",
        "\n",
        "scores = []\n",
        "K = range(2, 11)\n",
        "\n",
        "for k in K:\n",
        "    kmeans = KMeans(n_clusters=k, random_state=42)\n",
        "    labels = kmeans.fit_predict(X)\n",
        "    score = silhouette_score(X, labels)\n",
        "    scores.append(score)\n",
        "    print(f\"Jumlah Klaster = {k}, Silhouette Score = {score:.4f}\")\n",
        "plt.figure(figsize=(8,5))\n",
        "plt.plot(K, scores, marker='o')\n",
        "plt.title('Silhouette Score untuk berbagai jumlah klaster')\n",
        "plt.xlabel('Jumlah Klaster (k)')\n",
        "plt.ylabel('Silhouette Score')\n",
        "plt.grid(True)\n",
        "plt.show()"
      ],
      "metadata": {
        "id": "jZzsN1zYm6bH"
      },
      "execution_count": null,
      "outputs": []
    },
    {
      "cell_type": "markdown",
      "source": [
        "# **hitung KMeans**"
      ],
      "metadata": {
        "id": "1d7MN78LoyOp"
      }
    },
    {
      "cell_type": "code",
      "source": [
        "# hitung K-Means dengan K=2\n",
        "\n",
        "k = 2\n",
        "kmeans = KMeans(n_clusters=k, random_state=42)\n",
        "df['cluster'] = kmeans.fit_predict(X)"
      ],
      "metadata": {
        "id": "jsmMCm0em6dk"
      },
      "execution_count": null,
      "outputs": []
    },
    {
      "cell_type": "markdown",
      "source": [
        "# **Visualisasi**"
      ],
      "metadata": {
        "id": "umNLxgm2o18H"
      }
    },
    {
      "cell_type": "code",
      "source": [
        "# Visualisasi PCA\n",
        "\n",
        "pca = PCA(n_components=2)\n",
        "X_pca = pca.fit_transform(X)\n",
        "df['pca1'] = X_pca[:, 0]\n",
        "df['pca2'] = X_pca[:, 1]\n",
        "\n",
        "plt.figure(figsize=(8,6))\n",
        "sns.scatterplot(data=df, x='pca1', y='pca2', hue='cluster', palette='Set1')\n",
        "plt.title('Visualisasi Klaster (PCA)')\n",
        "plt.show()"
      ],
      "metadata": {
        "id": "CUSCEyg_m6f2"
      },
      "execution_count": null,
      "outputs": []
    },
    {
      "cell_type": "code",
      "source": [],
      "metadata": {
        "id": "4Y0U8F76m6jf"
      },
      "execution_count": null,
      "outputs": []
    },
    {
      "cell_type": "code",
      "source": [],
      "metadata": {
        "id": "tM9n28BYm6wM"
      },
      "execution_count": null,
      "outputs": []
    },
    {
      "cell_type": "code",
      "source": [],
      "metadata": {
        "id": "LG2G9DcIm6zE"
      },
      "execution_count": null,
      "outputs": []
    },
    {
      "cell_type": "code",
      "source": [],
      "metadata": {
        "id": "g7ktAY0Gm62p"
      },
      "execution_count": null,
      "outputs": []
    },
    {
      "cell_type": "code",
      "source": [],
      "metadata": {
        "id": "J39TkInMm643"
      },
      "execution_count": null,
      "outputs": []
    },
    {
      "cell_type": "code",
      "source": [],
      "metadata": {
        "id": "xC9J4yylm667"
      },
      "execution_count": null,
      "outputs": []
    }
  ]
}